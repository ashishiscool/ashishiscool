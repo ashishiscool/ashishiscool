{
 "cells": [
  {
   "cell_type": "markdown",
   "id": "1701f9a6-5b62-4d8f-86ba-cd70ed187e77",
   "metadata": {},
   "source": [
    "# Personal Expense Project"
   ]
  },
  {
   "cell_type": "markdown",
   "id": "402d81d7-4c13-4e82-aeee-78291bb73240",
   "metadata": {},
   "source": [
    "## Input the new expense"
   ]
  },
  {
   "cell_type": "code",
   "execution_count": 1,
   "id": "0e5d2d6d-3383-4054-9575-0f7a903abe50",
   "metadata": {},
   "outputs": [
    {
     "name": "stdout",
     "output_type": "stream",
     "text": [
      "Please enter date in YYYY-MM-DD:\t\n"
     ]
    },
    {
     "name": "stdin",
     "output_type": "stream",
     "text": [
      " 2017-01-01\n"
     ]
    },
    {
     "name": "stdout",
     "output_type": "stream",
     "text": [
      "Please enter category of expense:\n"
     ]
    },
    {
     "name": "stdin",
     "output_type": "stream",
     "text": [
      " sfz\n"
     ]
    },
    {
     "name": "stdout",
     "output_type": "stream",
     "text": [
      "Please enter the amount:\n"
     ]
    },
    {
     "name": "stdin",
     "output_type": "stream",
     "text": [
      " 45\n"
     ]
    },
    {
     "name": "stdout",
     "output_type": "stream",
     "text": [
      "Please enter discription of this expense:\n"
     ]
    },
    {
     "name": "stdin",
     "output_type": "stream",
     "text": [
      " dzf\n"
     ]
    },
    {
     "name": "stdout",
     "output_type": "stream",
     "text": [
      "Do you want to add more expenses (y for more):\n"
     ]
    },
    {
     "name": "stdin",
     "output_type": "stream",
     "text": [
      " n\n"
     ]
    },
    {
     "name": "stdout",
     "output_type": "stream",
     "text": [
      "Data recorded\n"
     ]
    },
    {
     "data": {
      "text/plain": [
       "[{'Date': '2017-01-01',\n",
       "  'Category': 'sfz',\n",
       "  'Amount': 45.0,\n",
       "  'Description': 'dzf'}]"
      ]
     },
     "execution_count": 1,
     "metadata": {},
     "output_type": "execute_result"
    }
   ],
   "source": [
    "from dateutil.parser import parse\n",
    "\n",
    "\n",
    "#to check if input is in date format\n",
    "def validate_date(inp_string):\n",
    "    try:\n",
    "        parse(inp_string)\n",
    "    except :\n",
    "        print(\"Wrong format try again\")\n",
    "        return 0\n",
    "\n",
    "\n",
    "#to check if input is in int\n",
    "def validate_float(inp_string):\n",
    "    try:\n",
    "        float(inp_string)\n",
    "    except :\n",
    "        print(\"Wrong format try again\")\n",
    "        return 0\n",
    "\n",
    "\n",
    "def new_expense():\n",
    "    new_entry={'Date':0,'Category':0,'Amount':0,'Description':0}\n",
    "    check=0\n",
    "    while(check==0):\n",
    "        print(\"Please enter date in YYYY-MM-DD:\\t\")\n",
    "        date = input()\n",
    "        check = validate_date(date)\n",
    "        \n",
    "    check=0\n",
    "    while(check==0):\n",
    "        print(\"Please enter category of expense:\")\n",
    "        category=input()\n",
    "        if category=='':\n",
    "            print('No input!!')\n",
    "        else:\n",
    "            check=1\n",
    "    \n",
    "    check=0\n",
    "    while(check==0):\n",
    "        print(\"Please enter the amount:\")\n",
    "        amount=input()\n",
    "        check=validate_float(amount)\n",
    "    amount=float(amount)\n",
    "\n",
    "    check=0\n",
    "    while(check==0):\n",
    "        print(\"Please enter discription of this expense:\")\n",
    "        disc=input()\n",
    "        if disc=='':\n",
    "            print('No input!!')\n",
    "        else:\n",
    "            check=1\n",
    "        \n",
    "    \n",
    "    new_entry['Date']=date\n",
    "    new_entry['Category']=category\n",
    "    new_entry['Amount']=amount\n",
    "    new_entry['Description']=disc\n",
    "    \n",
    "    return new_entry\n",
    "\n",
    "def multiple_entry():\n",
    "    exp_list=[]\n",
    "    exp_list.append(new_expense())\n",
    "    ans='y'\n",
    "    while(ans=='y'):\n",
    "        print('Do you want to add more expenses (y for more):')\n",
    "        ans=input()\n",
    "        if(ans=='y'):\n",
    "            exp_list.append(new_expense())\n",
    "        else:\n",
    "            print('Data recorded')\n",
    "            ans='n'\n",
    "    return exp_list\n",
    "\n",
    "multiple_entry()\n",
    "    \n",
    "    \n",
    "    "
   ]
  },
  {
   "cell_type": "markdown",
   "id": "c40bee81-e0ef-49ee-8c5e-abf12c6dc48c",
   "metadata": {},
   "source": [
    "## View Expense"
   ]
  },
  {
   "cell_type": "code",
   "execution_count": 2,
   "id": "d6a2877d-1069-43ed-a9f4-a30bc8dfd343",
   "metadata": {},
   "outputs": [
    {
     "name": "stdout",
     "output_type": "stream",
     "text": [
      "           date       category  amount                   description\n",
      "0    21-11-2023         Dining  678.78                  Lunch outing\n",
      "1    21-06-2022      Utilities  709.01              Electricity bill\n",
      "2    15-10-2023      Groceries  897.12  Bought vegetables and fruits\n",
      "3    03-06-2024       Shopping  594.05                 Gift purchase\n",
      "4    14-03-2023         Travel  287.55      Train ticket to hometown\n",
      "..          ...            ...     ...                           ...\n",
      "152  31-07-2023  Entertainment  484.49              Subscription fee\n",
      "153  18-09-2024           Food   15.50            Lunch with friends\n",
      "154  17-09-2024           meds   15.50            Lunch with friends\n",
      "155  18-09-2024           Food   15.50            Lunch with friends\n",
      "156  17-09-2024           meds   15.50            Lunch with friends\n",
      "\n",
      "[157 rows x 4 columns]\n",
      "  \n"
     ]
    }
   ],
   "source": [
    "import pandas as pd\n",
    "\n",
    "def check_missing_data():\n",
    "    missrows=[]\n",
    "    with open('expense.csv', 'r') as csvfile:\n",
    "        csvreader = csv.reader(csvfile)\n",
    "        for row in csvreader:\n",
    "            check=0\n",
    "            \n",
    "            for i in range(4):\n",
    "                if row[i]=='':\n",
    "                    missrows.append(check)\n",
    "                    break\n",
    "            check+=1\n",
    "    if missrows!=[]:\n",
    "        print('Data missing in rows: ',missrows)\n",
    "    return 0\n",
    "\n",
    "def expense_reader():\n",
    "    df= pd.read_csv(\"expense.csv\")\n",
    "    print(df)\n",
    "    check_missing_data()\n",
    "    return 0\n",
    "        \n",
    "def check_expense_reader():\n",
    "    try:\n",
    "        expense_reader()\n",
    "    except:\n",
    "        print(\"  \")\n",
    "\n",
    "check_expense_reader()\n"
   ]
  },
  {
   "cell_type": "markdown",
   "id": "aed2d745-2108-4ab7-b3b6-1f62b0eec892",
   "metadata": {},
   "source": [
    "## Set and track the budget"
   ]
  },
  {
   "cell_type": "code",
   "execution_count": 3,
   "id": "337210fe-3b07-4933-81f8-4bde67a6532b",
   "metadata": {},
   "outputs": [
    {
     "name": "stdout",
     "output_type": "stream",
     "text": [
      "Currently monthly budget is :  100000\n",
      "Do you want to set a new budget? (y or n)\n"
     ]
    },
    {
     "name": "stdin",
     "output_type": "stream",
     "text": [
      " n\n"
     ]
    },
    {
     "name": "stdout",
     "output_type": "stream",
     "text": [
      "Monthly budget left:\n",
      "date\n",
      "2024-07-31    100000.00\n",
      "2024-08-31    100000.00\n",
      "2024-09-30     99938.00\n",
      "2023-05-31     99348.38\n",
      "2022-06-30     99097.53\n",
      "2024-02-29     98826.22\n",
      "2023-01-31     98726.79\n",
      "2024-01-31     98624.30\n",
      "2024-05-31     98587.34\n",
      "2023-09-30     98423.18\n",
      "2023-12-31     98287.55\n",
      "2023-08-31     98223.39\n",
      "2022-07-31     98127.24\n",
      "2024-06-30     98124.15\n",
      "2023-06-30     98032.03\n",
      "2023-11-30     97870.83\n",
      "2023-07-31     97758.19\n",
      "2024-03-31     97658.02\n",
      "2024-04-30     97563.70\n",
      "2023-04-30     97342.09\n",
      "2022-05-31     97304.94\n",
      "2023-02-28     97135.81\n",
      "2022-12-31     96926.09\n",
      "2022-08-31     96876.12\n",
      "2022-10-31     96644.90\n",
      "2022-11-30     96546.29\n",
      "2022-04-30     96473.18\n",
      "2022-02-28     96207.34\n",
      "2022-03-31     96182.98\n",
      "2022-09-30     95807.50\n",
      "2023-03-31     95711.52\n",
      "2023-10-31     95149.83\n",
      "2022-01-31     95118.30\n",
      "Name: amount, dtype: float64\n"
     ]
    },
    {
     "name": "stderr",
     "output_type": "stream",
     "text": [
      "C:\\Users\\ashis\\AppData\\Local\\Temp\\ipykernel_15640\\3156094969.py:41: UserWarning: Parsing dates in %d-%m-%Y format when dayfirst=False (the default) was specified. Pass `dayfirst=True` or specify a format to silence this warning.\n",
      "  df['date'] = pd.to_datetime(df['date'])\n"
     ]
    }
   ],
   "source": [
    "import pandas as pd\n",
    "\n",
    "def budget_writer():\n",
    "    check=0\n",
    "    while(check==0):\n",
    "        print(\"Please enter the new budget:\")\n",
    "        budget=input()\n",
    "        check=validate_float(budget)\n",
    "    file=open('Budget.txt','w')\n",
    "    file.write(budget)\n",
    "    file.close()\n",
    "\n",
    "\n",
    "def track_budget():\n",
    "    file=open('Budget.txt','r')\n",
    "    budget=file.read()\n",
    "    file.close()\n",
    "    if(budget==''):\n",
    "        print(\"No current monthly budget set.\")\n",
    "        budget_writer()\n",
    "    else:\n",
    "        print(\"Currently monthly budget is : \",budget)\n",
    "        print(\"Do you want to set a new budget? (y or n)\")\n",
    "        inp=input()\n",
    "        check=0\n",
    "        while check==0:\n",
    "            if inp=='y' or inp=='n':\n",
    "                break\n",
    "            print(\"Wrong input!!\")\n",
    "            print(\"Currently monthly budget is : \",budget)\n",
    "            print(\"Do you want to set a new budget? (y or n)\")\n",
    "            inp=input()\n",
    "        if inp=='y':\n",
    "            budget_writer()\n",
    "    \n",
    "    budget=float(budget)\n",
    "\n",
    "    print(\"Monthly budget left:\")\n",
    "    \n",
    "    df= pd.read_csv(\"expense.csv\")\n",
    "    df['date'] = pd.to_datetime(df['date'])\n",
    "    df.set_index('date',inplace=True)\n",
    "    budgettable=budget-df['amount'].resample('ME').sum().sort_values()\n",
    "    print(budgettable)\n",
    "    \n",
    "track_budget()        "
   ]
  },
  {
   "cell_type": "markdown",
   "id": "113c8dbb-6a18-49f7-827c-0c8c5b60a5e3",
   "metadata": {},
   "source": [
    "## Save and load expenses "
   ]
  },
  {
   "cell_type": "code",
   "execution_count": 5,
   "id": "30587bc0-5d04-4497-ab91-ee1644891650",
   "metadata": {},
   "outputs": [
    {
     "name": "stdout",
     "output_type": "stream",
     "text": [
      "           date   category  amount                   description\n",
      "0    21-11-2023     Dining  678.78                  Lunch outing\n",
      "1    21-06-2022  Utilities  709.01              Electricity bill\n",
      "2    15-10-2023  Groceries  897.12  Bought vegetables and fruits\n",
      "3    03-06-2024   Shopping  594.05                 Gift purchase\n",
      "4    14-03-2023     Travel  287.55      Train ticket to hometown\n",
      "..          ...        ...     ...                           ...\n",
      "154  17-09-2024       meds   15.50            Lunch with friends\n",
      "155  18-09-2024       Food   15.50            Lunch with friends\n",
      "156  17-09-2024       meds   15.50            Lunch with friends\n",
      "157  2024-09-18       Food   15.50            Lunch with friends\n",
      "158  2024-09-17       meds   15.50            Lunch with friends\n",
      "\n",
      "[159 rows x 4 columns]\n",
      "Data saved\n"
     ]
    }
   ],
   "source": [
    "import csv\n",
    "\n",
    "\n",
    "exp=[{'date': '2024-09-18', 'category': 'Food', 'amount': 15.50, 'description': 'Lunch with friends'},{'date': '2024-09-17', 'category': 'meds', 'amount': 15.50, 'description': 'Lunch with friends'}]\n",
    "exp1=[]\n",
    "\n",
    "def expense_writer(entry={}):\n",
    "    with open(\"expense.csv\", \"a\", newline=\"\") as f:\n",
    "        w = csv.DictWriter(f, entry.keys())\n",
    "        w.writerow(entry)\n",
    "                  \n",
    "#expense_writer(exp)\n",
    "\n",
    "def save_expenses(newExpenses=[]):\n",
    "    try:\n",
    "        df= pd.read_csv(\"expense.csv\")\n",
    "    except:\n",
    "        expense_writer({'date': 'date', 'category': 'category', 'amount': 'amount', 'description': 'description'})\n",
    "    for inp in newExpenses:\n",
    "        expense_writer(inp)\n",
    "    check_expense_reader()\n",
    "    print('Data saved')\n",
    "\n",
    "save_expenses(exp)"
   ]
  },
  {
   "cell_type": "markdown",
   "id": "7c282660-6dae-4fb5-b85a-a000aee7a007",
   "metadata": {},
   "source": [
    "## Main Menu"
   ]
  },
  {
   "cell_type": "code",
   "execution_count": 36,
   "id": "75823de9-0b5c-4d1e-b787-c90dc1e0110a",
   "metadata": {},
   "outputs": [
    {
     "name": "stdout",
     "output_type": "stream",
     "text": [
      "Welcome to Personal Budget Manager!!\n",
      "\n",
      "\n",
      "Menu:\n",
      "1. Add Expense\n",
      "2. View Expense\n",
      "3. Track Budget\n",
      "4. Save Expenses\n",
      "5. Exit\n",
      "\n",
      "\n",
      " Please enter index of the option you want to select\n"
     ]
    },
    {
     "name": "stdin",
     "output_type": "stream",
     "text": [
      " 2\n"
     ]
    },
    {
     "name": "stdout",
     "output_type": "stream",
     "text": [
      "           date       category  amount                   description\n",
      "0    2023-11-21         Dining  678.78                  Lunch outing\n",
      "1    2022-06-21      Utilities  709.01              Electricity bill\n",
      "2    2023-10-15      Groceries  897.12  Bought vegetables and fruits\n",
      "3    2024-06-03       Shopping  594.05                 Gift purchase\n",
      "4    2023-03-14         Travel  287.55      Train ticket to hometown\n",
      "..          ...            ...     ...                           ...\n",
      "148  2022-09-24         Dining  469.91          Dinner at restaurant\n",
      "149  2023-10-26      Utilities  836.83              Electricity bill\n",
      "150  2023-10-19         Travel  351.82                Flight booking\n",
      "151  2023-10-08         Dining  748.26                  Lunch outing\n",
      "152  2023-07-31  Entertainment  484.49              Subscription fee\n",
      "\n",
      "[153 rows x 4 columns]\n",
      "\n",
      "\n",
      "Menu:\n",
      "1. Add Expense\n",
      "2. View Expense\n",
      "3. Track Budget\n",
      "4. Save Expenses\n",
      "5. Exit\n",
      "\n",
      "\n",
      " Please enter index of the option you want to select\n"
     ]
    },
    {
     "name": "stdin",
     "output_type": "stream",
     "text": [
      " 3\n"
     ]
    },
    {
     "name": "stdout",
     "output_type": "stream",
     "text": [
      "Currently monthly budget is :  400\n",
      "Do you want to set a new budget? (y or n)\n"
     ]
    },
    {
     "name": "stdin",
     "output_type": "stream",
     "text": [
      " n\n"
     ]
    },
    {
     "name": "stdout",
     "output_type": "stream",
     "text": [
      "Monthly budget left:\n",
      "date\n",
      "2023-05-31    -251.62\n",
      "2022-06-30    -502.47\n",
      "2024-02-29    -773.78\n",
      "2023-01-31    -873.21\n",
      "2024-01-31    -975.70\n",
      "2024-05-31   -1012.66\n",
      "2023-09-30   -1176.82\n",
      "2023-12-31   -1312.45\n",
      "2023-08-31   -1376.61\n",
      "2022-07-31   -1472.76\n",
      "2024-06-30   -1475.85\n",
      "2023-06-30   -1567.97\n",
      "2023-11-30   -1729.17\n",
      "2023-07-31   -1841.81\n",
      "2024-03-31   -1941.98\n",
      "2024-04-30   -2036.30\n",
      "2023-04-30   -2257.91\n",
      "2022-05-31   -2295.06\n",
      "2023-02-28   -2464.19\n",
      "2022-12-31   -2673.91\n",
      "2022-08-31   -2723.88\n",
      "2022-10-31   -2955.10\n",
      "2022-11-30   -3053.71\n",
      "2022-04-30   -3126.82\n",
      "2022-02-28   -3392.66\n",
      "2022-03-31   -3417.02\n",
      "2022-09-30   -3792.50\n",
      "2023-03-31   -3888.48\n",
      "2023-10-31   -4450.17\n",
      "2022-01-31   -4481.70\n",
      "Name: amount, dtype: float64\n",
      "\n",
      "\n",
      "Menu:\n",
      "1. Add Expense\n",
      "2. View Expense\n",
      "3. Track Budget\n",
      "4. Save Expenses\n",
      "5. Exit\n",
      "\n",
      "\n",
      " Please enter index of the option you want to select\n"
     ]
    },
    {
     "name": "stdin",
     "output_type": "stream",
     "text": [
      " 5\n"
     ]
    },
    {
     "name": "stdout",
     "output_type": "stream",
     "text": [
      "Thanks for using Personal Budget Manager!!\n"
     ]
    }
   ],
   "source": [
    "print(\"Welcome to Personal Budget Manager!!\")\n",
    "def menu():\n",
    "    inp=0\n",
    "    print(\"\\n\\nMenu:\")\n",
    "    print(\"1. Add Expense\")\n",
    "    print(\"2. View Expense\")\n",
    "    print(\"3. Track Budget\")\n",
    "    print(\"4. Save Expenses\")\n",
    "    print(\"5. Exit\")\n",
    "    print(\"\\n\\n Please enter index of the option you want to select\")\n",
    "    inp=input()\n",
    "    return inp\n",
    "\n",
    "inp=menu()\n",
    "exp_list=[]\n",
    "loop=0\n",
    "\n",
    "while loop==0:\n",
    "\n",
    "    if inp=='1':\n",
    "        exp_list=multiple_entry()\n",
    "        inp=menu()\n",
    "    elif inp=='2':\n",
    "        check_expense_reader()\n",
    "        inp=menu()\n",
    "    elif inp=='3':\n",
    "        track_budget()\n",
    "        inp=menu()\n",
    "    elif inp=='4':\n",
    "        save_expenses(exp_list)\n",
    "        inp=menu()\n",
    "    elif inp=='5':\n",
    "        print('Thanks for using Personal Budget Manager!!')\n",
    "        break\n",
    "    else:\n",
    "        print(\"Wrong input!!\")\n",
    "        inp=menu()\n",
    "\n",
    "        "
   ]
  }
 ],
 "metadata": {
  "kernelspec": {
   "display_name": "Python [conda env:base] *",
   "language": "python",
   "name": "conda-base-py"
  },
  "language_info": {
   "codemirror_mode": {
    "name": "ipython",
    "version": 3
   },
   "file_extension": ".py",
   "mimetype": "text/x-python",
   "name": "python",
   "nbconvert_exporter": "python",
   "pygments_lexer": "ipython3",
   "version": "3.12.7"
  }
 },
 "nbformat": 4,
 "nbformat_minor": 5
}
